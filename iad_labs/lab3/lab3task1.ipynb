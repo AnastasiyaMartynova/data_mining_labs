{
 "cells": [
  {
   "cell_type": "code",
   "execution_count": 1,
   "metadata": {},
   "outputs": [
    {
     "name": "stdout",
     "output_type": "stream",
     "text": [
      "Requirement already satisfied: pandas in c:\\users\\anmrt\\appdata\\local\\packages\\pythonsoftwarefoundation.python.3.11_qbz5n2kfra8p0\\localcache\\local-packages\\python311\\site-packages (2.2.3)\n",
      "Requirement already satisfied: numpy in c:\\users\\anmrt\\appdata\\local\\packages\\pythonsoftwarefoundation.python.3.11_qbz5n2kfra8p0\\localcache\\local-packages\\python311\\site-packages (2.2.3)\n",
      "Requirement already satisfied: matplotlib in c:\\users\\anmrt\\appdata\\local\\packages\\pythonsoftwarefoundation.python.3.11_qbz5n2kfra8p0\\localcache\\local-packages\\python311\\site-packages (3.10.1)\n",
      "Requirement already satisfied: python-dateutil>=2.8.2 in c:\\users\\anmrt\\appdata\\local\\packages\\pythonsoftwarefoundation.python.3.11_qbz5n2kfra8p0\\localcache\\local-packages\\python311\\site-packages (from pandas) (2.9.0.post0)\n",
      "Requirement already satisfied: pytz>=2020.1 in c:\\users\\anmrt\\appdata\\local\\packages\\pythonsoftwarefoundation.python.3.11_qbz5n2kfra8p0\\localcache\\local-packages\\python311\\site-packages (from pandas) (2025.1)\n",
      "Requirement already satisfied: tzdata>=2022.7 in c:\\users\\anmrt\\appdata\\local\\packages\\pythonsoftwarefoundation.python.3.11_qbz5n2kfra8p0\\localcache\\local-packages\\python311\\site-packages (from pandas) (2025.1)\n",
      "Requirement already satisfied: contourpy>=1.0.1 in c:\\users\\anmrt\\appdata\\local\\packages\\pythonsoftwarefoundation.python.3.11_qbz5n2kfra8p0\\localcache\\local-packages\\python311\\site-packages (from matplotlib) (1.3.1)\n",
      "Requirement already satisfied: cycler>=0.10 in c:\\users\\anmrt\\appdata\\local\\packages\\pythonsoftwarefoundation.python.3.11_qbz5n2kfra8p0\\localcache\\local-packages\\python311\\site-packages (from matplotlib) (0.12.1)\n",
      "Requirement already satisfied: fonttools>=4.22.0 in c:\\users\\anmrt\\appdata\\local\\packages\\pythonsoftwarefoundation.python.3.11_qbz5n2kfra8p0\\localcache\\local-packages\\python311\\site-packages (from matplotlib) (4.56.0)\n",
      "Requirement already satisfied: kiwisolver>=1.3.1 in c:\\users\\anmrt\\appdata\\local\\packages\\pythonsoftwarefoundation.python.3.11_qbz5n2kfra8p0\\localcache\\local-packages\\python311\\site-packages (from matplotlib) (1.4.8)\n",
      "Requirement already satisfied: packaging>=20.0 in c:\\users\\anmrt\\appdata\\local\\packages\\pythonsoftwarefoundation.python.3.11_qbz5n2kfra8p0\\localcache\\local-packages\\python311\\site-packages (from matplotlib) (24.2)\n",
      "Requirement already satisfied: pillow>=8 in c:\\users\\anmrt\\appdata\\local\\packages\\pythonsoftwarefoundation.python.3.11_qbz5n2kfra8p0\\localcache\\local-packages\\python311\\site-packages (from matplotlib) (11.1.0)\n",
      "Requirement already satisfied: pyparsing>=2.3.1 in c:\\users\\anmrt\\appdata\\local\\packages\\pythonsoftwarefoundation.python.3.11_qbz5n2kfra8p0\\localcache\\local-packages\\python311\\site-packages (from matplotlib) (3.2.1)\n",
      "Requirement already satisfied: six>=1.5 in c:\\users\\anmrt\\appdata\\local\\packages\\pythonsoftwarefoundation.python.3.11_qbz5n2kfra8p0\\localcache\\local-packages\\python311\\site-packages (from python-dateutil>=2.8.2->pandas) (1.17.0)\n",
      "Note: you may need to restart the kernel to use updated packages.\n"
     ]
    },
    {
     "name": "stderr",
     "output_type": "stream",
     "text": [
      "\n",
      "[notice] A new release of pip is available: 24.0 -> 25.0.1\n",
      "[notice] To update, run: C:\\Users\\anmrt\\AppData\\Local\\Microsoft\\WindowsApps\\PythonSoftwareFoundation.Python.3.11_qbz5n2kfra8p0\\python.exe -m pip install --upgrade pip\n"
     ]
    }
   ],
   "source": [
    "%pip install pandas numpy matplotlib"
   ]
  },
  {
   "cell_type": "code",
   "execution_count": 2,
   "metadata": {},
   "outputs": [
    {
     "name": "stdout",
     "output_type": "stream",
     "text": [
      "Requirement already satisfied: scipy in c:\\users\\anmrt\\appdata\\local\\packages\\pythonsoftwarefoundation.python.3.11_qbz5n2kfra8p0\\localcache\\local-packages\\python311\\site-packages (1.15.2)\n",
      "Requirement already satisfied: numpy<2.5,>=1.23.5 in c:\\users\\anmrt\\appdata\\local\\packages\\pythonsoftwarefoundation.python.3.11_qbz5n2kfra8p0\\localcache\\local-packages\\python311\\site-packages (from scipy) (2.2.3)\n",
      "Note: you may need to restart the kernel to use updated packages.\n"
     ]
    },
    {
     "name": "stderr",
     "output_type": "stream",
     "text": [
      "\n",
      "[notice] A new release of pip is available: 24.0 -> 25.0.1\n",
      "[notice] To update, run: C:\\Users\\anmrt\\AppData\\Local\\Microsoft\\WindowsApps\\PythonSoftwareFoundation.Python.3.11_qbz5n2kfra8p0\\python.exe -m pip install --upgrade pip\n"
     ]
    }
   ],
   "source": [
    "%pip install scipy"
   ]
  },
  {
   "cell_type": "code",
   "execution_count": 3,
   "metadata": {},
   "outputs": [
    {
     "name": "stdout",
     "output_type": "stream",
     "text": [
      "Collecting openpyxl\n",
      "  Downloading openpyxl-3.1.5-py2.py3-none-any.whl.metadata (2.5 kB)\n",
      "Collecting et-xmlfile (from openpyxl)\n",
      "  Downloading et_xmlfile-2.0.0-py3-none-any.whl.metadata (2.7 kB)\n",
      "Downloading openpyxl-3.1.5-py2.py3-none-any.whl (250 kB)\n",
      "   ---------------------------------------- 0.0/250.9 kB ? eta -:--:--\n",
      "   - -------------------------------------- 10.2/250.9 kB ? eta -:--:--\n",
      "   ---- ---------------------------------- 30.7/250.9 kB 435.7 kB/s eta 0:00:01\n",
      "   ---- ---------------------------------- 30.7/250.9 kB 435.7 kB/s eta 0:00:01\n",
      "   -------------- ------------------------ 92.2/250.9 kB 581.0 kB/s eta 0:00:01\n",
      "   --------------- ---------------------- 102.4/250.9 kB 535.8 kB/s eta 0:00:01\n",
      "   ----------------------- -------------- 153.6/250.9 kB 654.6 kB/s eta 0:00:01\n",
      "   ----------------------- -------------- 153.6/250.9 kB 654.6 kB/s eta 0:00:01\n",
      "   ---------------------------------- --- 225.3/250.9 kB 689.2 kB/s eta 0:00:01\n",
      "   -------------------------------------  245.8/250.9 kB 684.7 kB/s eta 0:00:01\n",
      "   -------------------------------------- 250.9/250.9 kB 615.5 kB/s eta 0:00:00\n",
      "Downloading et_xmlfile-2.0.0-py3-none-any.whl (18 kB)\n",
      "Installing collected packages: et-xmlfile, openpyxl\n",
      "Successfully installed et-xmlfile-2.0.0 openpyxl-3.1.5\n",
      "Note: you may need to restart the kernel to use updated packages.\n"
     ]
    },
    {
     "name": "stderr",
     "output_type": "stream",
     "text": [
      "\n",
      "[notice] A new release of pip is available: 24.0 -> 25.0.1\n",
      "[notice] To update, run: C:\\Users\\anmrt\\AppData\\Local\\Microsoft\\WindowsApps\\PythonSoftwareFoundation.Python.3.11_qbz5n2kfra8p0\\python.exe -m pip install --upgrade pip\n"
     ]
    }
   ],
   "source": [
    "%pip install openpyxl"
   ]
  },
  {
   "cell_type": "code",
   "execution_count": 4,
   "metadata": {},
   "outputs": [],
   "source": [
    "import pandas as pd\n",
    "import numpy as np\n",
    "import matplotlib.pyplot as plt\n",
    "from scipy import stats"
   ]
  },
  {
   "cell_type": "code",
   "execution_count": 5,
   "metadata": {},
   "outputs": [],
   "source": [
    "df = pd.read_excel('Задача 4.1. Потребительские цены.xlsx')"
   ]
  },
  {
   "cell_type": "code",
   "execution_count": 6,
   "metadata": {},
   "outputs": [
    {
     "name": "stdout",
     "output_type": "stream",
     "text": [
      "     Месяц  Товар 1  Товар 2  Товар 3  Товар 4\n",
      "0   Январь       10       20       15       25\n",
      "1  Февраль       12       22       12       26\n",
      "2     Март       14       25        9       26\n",
      "3   Апрель       13       24       10       25\n",
      "4      Май       14       25        9       24\n"
     ]
    }
   ],
   "source": [
    "print(df.head())"
   ]
  },
  {
   "cell_type": "code",
   "execution_count": 7,
   "metadata": {},
   "outputs": [
    {
     "name": "stdout",
     "output_type": "stream",
     "text": [
      "Коэффициент корреляции Пирсона между Товаром 1 и Товаром 2: 0.8303746721577558\n",
      "Коэффициент корреляции Пирсона между Товаром 1 и Товаром 3: -0.9247928878065863\n",
      "Коэффициент корреляции Пирсона между Товаром 1 и Товаром 4: -0.11486667409215932\n"
     ]
    }
   ],
   "source": [
    "# Товар 1 и 2\n",
    "corr_1_2 = np.corrcoef(df['Товар 1'], df['Товар 2'])[0, 1]\n",
    "\n",
    "# Товар 1 и 3\n",
    "corr_1_3 = np.corrcoef(df['Товар 1'], df['Товар 3'])[0, 1]\n",
    "\n",
    "# Товар 1 и 4\n",
    "corr_1_4 = np.corrcoef(df['Товар 1'], df['Товар 4'])[0, 1]\n",
    "\n",
    "print(f\"Коэффициент корреляции Пирсона между Товаром 1 и Товаром 2: {corr_1_2}\")\n",
    "print(f\"Коэффициент корреляции Пирсона между Товаром 1 и Товаром 3: {corr_1_3}\")\n",
    "print(f\"Коэффициент корреляции Пирсона между Товаром 1 и Товаром 4: {corr_1_4}\")"
   ]
  },
  {
   "cell_type": "code",
   "execution_count": 8,
   "metadata": {},
   "outputs": [
    {
     "name": "stdout",
     "output_type": "stream",
     "text": [
      "Коэффициенты корреляции между Товаром 1 и Товаром 2: Пирсон 0.8303746721577557, Кендалл 0.7758620689655172, Спирмен 0.8818240120788577\n",
      "Коэффициенты корреляции между Товаром 1 и Товаром 3: Пирсон -0.924792887806586, Кендалл -0.9112956546121256, Спирмен -0.948382345545359\n",
      "Коэффициенты корреляции между Товаром 1 и Товаром 4: Пирсон -0.11486667409215916, Кендалл -0.10527936095153945, Спирмен -0.11839885335090967\n"
     ]
    }
   ],
   "source": [
    "# Товар 1 и 2\n",
    "pearson_1_2, _ = stats.pearsonr(df['Товар 1'], df['Товар 2'])\n",
    "kendall_1_2, _ = stats.kendalltau(df['Товар 1'], df['Товар 2'])\n",
    "spearman_1_2, _ = stats.spearmanr(df['Товар 1'], df['Товар 2'])\n",
    "\n",
    "# Товар 1 и 3\n",
    "pearson_1_3, _ = stats.pearsonr(df['Товар 1'], df['Товар 3'])\n",
    "kendall_1_3, _ = stats.kendalltau(df['Товар 1'], df['Товар 3'])\n",
    "spearman_1_3, _ = stats.spearmanr(df['Товар 1'], df['Товар 3'])\n",
    "\n",
    "# Товар 1 и 4\n",
    "pearson_1_4, _ = stats.pearsonr(df['Товар 1'], df['Товар 4'])\n",
    "kendall_1_4, _ = stats.kendalltau(df['Товар 1'], df['Товар 4'])\n",
    "spearman_1_4, _ = stats.spearmanr(df['Товар 1'], df['Товар 4'])\n",
    "\n",
    "print(f\"Коэффициенты корреляции между Товаром 1 и Товаром 2: Пирсон {pearson_1_2}, Кендалл {kendall_1_2}, Спирмен {spearman_1_2}\")\n",
    "print(f\"Коэффициенты корреляции между Товаром 1 и Товаром 3: Пирсон {pearson_1_3}, Кендалл {kendall_1_3}, Спирмен {spearman_1_3}\")\n",
    "print(f\"Коэффициенты корреляции между Товаром 1 и Товаром 4: Пирсон {pearson_1_4}, Кендалл {kendall_1_4}, Спирмен {spearman_1_4}\")"
   ]
  }
 ],
 "metadata": {
  "kernelspec": {
   "display_name": "Python 3",
   "language": "python",
   "name": "python3"
  },
  "language_info": {
   "codemirror_mode": {
    "name": "ipython",
    "version": 3
   },
   "file_extension": ".py",
   "mimetype": "text/x-python",
   "name": "python",
   "nbconvert_exporter": "python",
   "pygments_lexer": "ipython3",
   "version": "3.11.9"
  }
 },
 "nbformat": 4,
 "nbformat_minor": 2
}
