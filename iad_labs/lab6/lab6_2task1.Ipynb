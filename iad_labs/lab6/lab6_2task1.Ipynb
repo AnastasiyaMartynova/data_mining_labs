{
 "cells": [
  {
   "cell_type": "code",
   "execution_count": null,
   "metadata": {},
   "outputs": [
    {
     "name": "stdout",
     "output_type": "stream",
     "text": [
      "X = [-3.5 -2.  -0.5  1.   2.5  4.   5.5]\n",
      "Y = [-0.98398595 -0.84147098 -0.24740396  0.47942554  0.94898462  0.90929743\n",
      "  0.38166099]\n",
      "A = [0 1 2 3 4 5]\n",
      "ans = [3.14159265 3.64159265 4.14159265 4.64159265 5.14159265 5.64159265]\n"
     ]
    }
   ],
   "source": [
    "#1\n",
    "import numpy as np\n",
    "\n",
    "Xn = -3.5\n",
    "dX = 1.5\n",
    "Xk = 4.5\n",
    "X = np.arange(Xn, Xk + dX, dX)\n",
    "print(\"X =\", X)\n",
    "\n",
    "Y = np.sin(X / 2)\n",
    "print(\"Y =\", Y)\n",
    "\n",
    "A = np.arange(0, 6)\n",
    "print(\"A =\", A)\n",
    "\n",
    "ans = A / 2 + np.pi\n",
    "print(\"ans =\", ans)"
   ]
  },
  {
   "cell_type": "code",
   "execution_count": 4,
   "metadata": {},
   "outputs": [
    {
     "name": "stdout",
     "output_type": "stream",
     "text": [
      "V = [1 2 3 4 5]\n",
      "W = [ 1.1   2.3  -0.1   5.88]\n"
     ]
    }
   ],
   "source": [
    "#2\n",
    "V = np.array([1, 2, 3, 4, 5])\n",
    "print(\"V =\", V)\n",
    "\n",
    "W = np.array([1.1, 2.3, -0.1, 5.88])\n",
    "print(\"W =\", W)"
   ]
  },
  {
   "cell_type": "code",
   "execution_count": 6,
   "metadata": {},
   "outputs": [
    {
     "name": "stdout",
     "output_type": "stream",
     "text": [
      "X =\n",
      "[[1]\n",
      " [2]\n",
      " [3]]\n"
     ]
    }
   ],
   "source": [
    "#3\n",
    "X = np.array([[1], [2], [3]])\n",
    "print(\"X =\")\n",
    "print(X)"
   ]
  },
  {
   "cell_type": "code",
   "execution_count": 7,
   "metadata": {},
   "outputs": [
    {
     "name": "stdout",
     "output_type": "stream",
     "text": [
      "result = 0.9000000000000001\n"
     ]
    }
   ],
   "source": [
    "#4\n",
    "W = np.array([1.1, 2.3, -0.1, 5.88])\n",
    "result = W[0] + 2 * W[2]  # W(1) + 2 * W(3)\n",
    "print(\"result =\", result)"
   ]
  },
  {
   "cell_type": "code",
   "execution_count": 8,
   "metadata": {},
   "outputs": [
    {
     "name": "stdout",
     "output_type": "stream",
     "text": [
      "A =\n",
      "[[1 2 3]\n",
      " [4 5 6]\n",
      " [7 8 9]]\n",
      "result = 3.5555555555555554\n"
     ]
    }
   ],
   "source": [
    "#5\n",
    "A = np.array([[1, 2, 3],\n",
    "              [4, 5, 6],\n",
    "              [7, 8, 9]])\n",
    "print(\"A =\")\n",
    "print(A)\n",
    "\n",
    "result = A[0, 1] ** A[1, 1] / A[2, 2]  # A(1,2)^A(2,2)/A(3,3)\n",
    "print(\"result =\", result)"
   ]
  },
  {
   "cell_type": "code",
   "execution_count": 9,
   "metadata": {},
   "outputs": [
    {
     "name": "stdout",
     "output_type": "stream",
     "text": [
      "V = [1 2 3 4 5 6 7 8 9]\n",
      "V =\n",
      "[[1 2 3]\n",
      " [4 5 6]\n",
      " [7 8 9]]\n",
      "M =\n",
      "[[1 2 3 1 2 3 1 2 3]\n",
      " [4 5 6 4 5 6 4 5 6]\n",
      " [7 8 9 7 8 9 7 8 9]]\n",
      "M =\n",
      "[[1 2 3]\n",
      " [4 5 6]\n",
      " [7 8 9]\n",
      " [1 2 3]\n",
      " [4 5 6]\n",
      " [7 8 9]]\n"
     ]
    }
   ],
   "source": [
    "#6\n",
    "v1 = np.array([1, 2, 3])\n",
    "v2 = np.array([4, 5, 6])\n",
    "v3 = np.array([7, 8, 9])\n",
    "V = np.hstack((v1, v2, v3))  # Горизонтальная конкатенация\n",
    "print(\"V =\", V)\n",
    "\n",
    "V = np.vstack((v1, v2, v3))  # Вертикальная конкатенация\n",
    "print(\"V =\")\n",
    "print(V)\n",
    "\n",
    "M = np.hstack((V, V, V))  # Горизонтальная конкатенация\n",
    "print(\"M =\")\n",
    "print(M)\n",
    "\n",
    "M = np.vstack((V, V))  # Вертикальная конкатенация\n",
    "print(\"M =\")\n",
    "print(M)"
   ]
  },
  {
   "cell_type": "code",
   "execution_count": 10,
   "metadata": {},
   "outputs": [
    {
     "name": "stdout",
     "output_type": "stream",
     "text": [
      "A =\n",
      "[[ 5  7  6  5]\n",
      " [ 7 10  8  7]\n",
      " [ 6  8 10  9]\n",
      " [ 5  7  9 10]]\n",
      "Второй столбец = [ 7 10  8  7]\n",
      "Третья строка = [ 6  8 10  9]\n",
      "M =\n",
      "[[ 8 10]\n",
      " [ 7  9]]\n",
      "A после удаления второго столбца =\n",
      "[[ 5  6  5]\n",
      " [ 7  8  7]\n",
      " [ 6 10  9]\n",
      " [ 5  9 10]]\n",
      "A после удаления третьей строки =\n",
      "[[ 5  6  5]\n",
      " [ 7  8  7]\n",
      " [ 5  9 10]]\n",
      "v = [ 8 10  7  9]\n",
      "b = [10  7  9]\n",
      "b после удаления второго элемента = [10  9]\n"
     ]
    }
   ],
   "source": [
    "#7\n",
    "A = np.array([[5, 7, 6, 5],\n",
    "              [7, 10, 8, 7],\n",
    "              [6, 8, 10, 9],\n",
    "              [5, 7, 9, 10]])\n",
    "print(\"A =\")\n",
    "print(A)\n",
    "\n",
    "col2 = A[:, 1]\n",
    "print(\"Второй столбец =\", col2)\n",
    "\n",
    "row3 = A[2, :]\n",
    "print(\"Третья строка =\", row3)\n",
    "\n",
    "M = A[2:4, 1:3]\n",
    "print(\"M =\")\n",
    "print(M)\n",
    "\n",
    "A = np.delete(A, 1, axis=1)  # Удаление столбца с индексом 1\n",
    "print(\"A после удаления второго столбца =\")\n",
    "print(A)\n",
    "\n",
    "A = np.delete(A, 2, axis=0)  # Удаление строки с индексом 2\n",
    "print(\"A после удаления третьей строки =\")\n",
    "print(A)\n",
    "\n",
    "v = M.flatten()\n",
    "print(\"v =\", v)\n",
    "\n",
    "b = v[1:4]\n",
    "print(\"b =\", b)\n",
    "\n",
    "b = np.delete(b, 1)\n",
    "print(\"b после удаления второго элемента =\", b)"
   ]
  },
  {
   "cell_type": "code",
   "execution_count": 12,
   "metadata": {},
   "outputs": [
    {
     "name": "stdout",
     "output_type": "stream",
     "text": [
      "Результат:\n",
      "[[ -1.  13.  28.]\n",
      " [ 14.  24.  24.]\n",
      " [ 60. -27.  53.]]\n"
     ]
    }
   ],
   "source": [
    "#8\n",
    "A = np.array([[1, 2, 0],\n",
    "              [-1, 3, 1],\n",
    "              [4, -2, 5]])\n",
    "\n",
    "B = np.array([[-1, 0, 1],\n",
    "              [2, 1, 1],\n",
    "              [3, -1, -1]])\n",
    "\n",
    "result = (A.T + B) ** 2 - 2 * A @ (0.5 * B.T - A)\n",
    "print(\"Результат:\")\n",
    "print(result)"
   ]
  },
  {
   "cell_type": "code",
   "execution_count": 13,
   "metadata": {},
   "outputs": [
    {
     "name": "stdout",
     "output_type": "stream",
     "text": [
      "sin(x) = [ 0.09983342 -0.8084964   0.00159265  0.         -0.84147098]\n"
     ]
    }
   ],
   "source": [
    "#9\n",
    "x = np.array([0.1, -2.2, 3.14, 0, -1])\n",
    "\n",
    "result = np.sin(x)\n",
    "print(\"sin(x) =\", result)"
   ]
  },
  {
   "cell_type": "code",
   "execution_count": 14,
   "metadata": {},
   "outputs": [
    {
     "name": "stdout",
     "output_type": "stream",
     "text": [
      "Длина вектора V = 7\n"
     ]
    }
   ],
   "source": [
    "#10\n",
    "V = np.array([-1, 0, 3, -2, 1, -1, 1])\n",
    "\n",
    "length = len(V)\n",
    "print(\"Длина вектора V =\", length)"
   ]
  },
  {
   "cell_type": "code",
   "execution_count": 15,
   "metadata": {},
   "outputs": [
    {
     "name": "stdout",
     "output_type": "stream",
     "text": [
      "Произведение элементов вектора V = 6\n"
     ]
    }
   ],
   "source": [
    "#11\n",
    "V = np.array([1, 2, 3])\n",
    "\n",
    "product = np.prod(V)\n",
    "print(\"Произведение элементов вектора V =\", product)"
   ]
  },
  {
   "cell_type": "code",
   "execution_count": 16,
   "metadata": {},
   "outputs": [
    {
     "name": "stdout",
     "output_type": "stream",
     "text": [
      "Сумма элементов вектора V = 1\n",
      "Скалярное произведение векторов a и b = 5\n"
     ]
    }
   ],
   "source": [
    "#12\n",
    "V = np.array([-1, 0, 3, -2, 1, -1, 1])\n",
    "\n",
    "sum_elements = np.sum(V)\n",
    "print(\"Сумма элементов вектора V =\", sum_elements)\n",
    "\n",
    "a = np.array([1, 2, 3])\n",
    "b = np.array([2, 0, 1])\n",
    "dot_product = np.sum(a * b)\n",
    "print(\"Скалярное произведение векторов a и b =\", dot_product)"
   ]
  },
  {
   "cell_type": "code",
   "execution_count": 17,
   "metadata": {},
   "outputs": [
    {
     "name": "stdout",
     "output_type": "stream",
     "text": [
      "Минимальный элемент вектора V = -2\n",
      "Максимальный элемент вектора V = 3\n"
     ]
    }
   ],
   "source": [
    "#13\n",
    "V = np.array([-1, 0, 3, -2, 1, -1, 1])\n",
    "\n",
    "min_element = np.min(V)\n",
    "max_element = np.max(V)\n",
    "print(\"Минимальный элемент вектора V =\", min_element)\n",
    "print(\"Максимальный элемент вектора V =\", max_element)"
   ]
  },
  {
   "cell_type": "code",
   "execution_count": 18,
   "metadata": {},
   "outputs": [
    {
     "name": "stdout",
     "output_type": "stream",
     "text": [
      "Среднее арифметическое вектора V = 0.14285714285714285\n"
     ]
    }
   ],
   "source": [
    "#14\n",
    "V = np.array([-1, 0, 3, -2, 1, -1, 1])\n",
    "\n",
    "mean_value = np.mean(V)\n",
    "print(\"Среднее арифметическое вектора V =\", mean_value)"
   ]
  },
  {
   "cell_type": "code",
   "execution_count": 19,
   "metadata": {},
   "outputs": [
    {
     "name": "stdout",
     "output_type": "stream",
     "text": [
      "Отсортированный вектор V = [-2 -1 -1  0  1  1  3]\n",
      "Отсортированная матрица A по столбцам:\n",
      "[[3 1 2]\n",
      " [6 4 5]\n",
      " [9 7 8]]\n"
     ]
    }
   ],
   "source": [
    "#14\n",
    "V = np.array([-1, 0, 3, -2, 1, -1, 1])\n",
    "\n",
    "sorted_V = np.sort(V)\n",
    "print(\"Отсортированный вектор V =\", sorted_V)\n",
    "\n",
    "A = np.array([[3, 1, 2],\n",
    "              [6, 4, 5],\n",
    "              [9, 7, 8]])\n",
    "sorted_A = np.sort(A, axis=0)\n",
    "print(\"Отсортированная матрица A по столбцам:\")\n",
    "print(sorted_A)"
   ]
  },
  {
   "cell_type": "code",
   "execution_count": 20,
   "metadata": {},
   "outputs": [
    {
     "name": "stdout",
     "output_type": "stream",
     "text": [
      "Сортировка по убыванию: [2 1 0]\n",
      "Сортировка по возрастанию: [0 1 2]\n",
      "Отсортированная матрица A:\n",
      "[[-2 -1  0]\n",
      " [ 1  1  2]\n",
      " [ 3  4  5]]\n"
     ]
    }
   ],
   "source": [
    "#15\n",
    "import numpy as np\n",
    "\n",
    "b = np.array([2, 0, 1])\n",
    "sorted_desc = -np.sort(-b)  # Сортировка по убыванию\n",
    "sorted_asc = np.sort(b)     # Сортировка по возрастанию\n",
    "print(\"Сортировка по убыванию:\", sorted_desc)\n",
    "print(\"Сортировка по возрастанию:\", sorted_asc)\n",
    "\n",
    "A = np.array([[1, 2, 0],\n",
    "              [-1, 3, 1],\n",
    "              [4, -2, 5]])\n",
    "sorted_A = np.sort(A, axis=None).reshape(A.shape)  # Сортировка всей матрицы\n",
    "print(\"Отсортированная матрица A:\")\n",
    "print(sorted_A)"
   ]
  },
  {
   "cell_type": "code",
   "execution_count": 21,
   "metadata": {},
   "outputs": [
    {
     "name": "stdout",
     "output_type": "stream",
     "text": [
      "Единичная матрица 3x3:\n",
      "[[1. 0. 0.]\n",
      " [0. 1. 0.]\n",
      " [0. 0. 1.]]\n",
      "Единичная матрица 5x1:\n",
      "[[1.]\n",
      " [0.]\n",
      " [0.]\n",
      " [0.]\n",
      " [0.]]\n"
     ]
    }
   ],
   "source": [
    "#16\n",
    "I = np.eye(3, 3)\n",
    "print(\"Единичная матрица 3x3:\")\n",
    "print(I)\n",
    "\n",
    "I_col = np.eye(5, 1)\n",
    "print(\"Единичная матрица 5x1:\")\n",
    "print(I_col)"
   ]
  },
  {
   "cell_type": "code",
   "execution_count": 22,
   "metadata": {},
   "outputs": [
    {
     "name": "stdout",
     "output_type": "stream",
     "text": [
      "Матрица из единиц 3x2:\n",
      "[[1. 1.]\n",
      " [1. 1.]\n",
      " [1. 1.]]\n"
     ]
    }
   ],
   "source": [
    "#17\n",
    "ones_matrix = np.ones((3, 2))\n",
    "print(\"Матрица из единиц 3x2:\")\n",
    "print(ones_matrix)"
   ]
  },
  {
   "cell_type": "code",
   "execution_count": 24,
   "metadata": {},
   "outputs": [
    {
     "name": "stdout",
     "output_type": "stream",
     "text": [
      "Нулевая матрица 3x2:\n",
      "[[0. 0.]\n",
      " [0. 0.]\n",
      " [0. 0.]]\n"
     ]
    }
   ],
   "source": [
    "#18\n",
    "zeros_matrix = np.zeros((3, 2))\n",
    "print(\"Нулевая матрица 3x2:\")\n",
    "print(zeros_matrix)"
   ]
  },
  {
   "cell_type": "code",
   "execution_count": 25,
   "metadata": {},
   "outputs": [
    {
     "name": "stdout",
     "output_type": "stream",
     "text": [
      "Диагональная матрица (главная диагональ):\n",
      "[[1 0 0]\n",
      " [0 2 0]\n",
      " [0 0 3]]\n",
      "Диагональная матрица (выше главной диагонали):\n",
      "[[0 1 0 0]\n",
      " [0 0 2 0]\n",
      " [0 0 0 3]\n",
      " [0 0 0 0]]\n",
      "Диагональная матрица (ниже главной диагонали):\n",
      "[[0 0 0 0]\n",
      " [1 0 0 0]\n",
      " [0 2 0 0]\n",
      " [0 0 3 0]]\n",
      "Главная диагональ матрицы A:\n",
      "[-1  1  3]\n"
     ]
    }
   ],
   "source": [
    "#19\n",
    "V = np.array([1, 2, 3])\n",
    "diag_matrix = np.diag(V)  # Главная диагональ\n",
    "print(\"Диагональная матрица (главная диагональ):\")\n",
    "print(diag_matrix)\n",
    "\n",
    "diag_matrix_upper = np.diag(V, k=1)\n",
    "print(\"Диагональная матрица (выше главной диагонали):\")\n",
    "print(diag_matrix_upper)\n",
    "\n",
    "diag_matrix_lower = np.diag(V, k=-1)\n",
    "print(\"Диагональная матрица (ниже главной диагонали):\")\n",
    "print(diag_matrix_lower)\n",
    "\n",
    "# Извлечение главной диагонали матрицы\n",
    "A = np.array([[-1, 2, 0],\n",
    "              [2, 1, -1],\n",
    "              [2, 1, 3]])\n",
    "main_diag = np.diag(A)\n",
    "print(\"Главная диагональ матрицы A:\")\n",
    "print(main_diag)"
   ]
  },
  {
   "cell_type": "code",
   "execution_count": 26,
   "metadata": {},
   "outputs": [
    {
     "name": "stdout",
     "output_type": "stream",
     "text": [
      "Случайная матрица 3x3:\n",
      "[[0.46992423 0.76494621 0.41673519]\n",
      " [0.77092204 0.07822718 0.79914964]\n",
      " [0.2192351  0.33181873 0.21447227]]\n",
      "Многомерный массив случайных чисел 2x2x2:\n",
      "[[[0.26564209 0.31500183]\n",
      "  [0.76288449 0.10503668]]\n",
      "\n",
      " [[0.01872674 0.94493264]\n",
      "  [0.91278052 0.2603499 ]]]\n",
      "Одно случайное число: 0.24297440336585774\n"
     ]
    }
   ],
   "source": [
    "#20\n",
    "random_matrix = np.random.rand(3, 3)\n",
    "print(\"Случайная матрица 3x3:\")\n",
    "print(random_matrix)\n",
    "\n",
    "random_tensor = np.random.rand(2, 2, 2)\n",
    "print(\"Многомерный массив случайных чисел 2x2x2:\")\n",
    "print(random_tensor)\n",
    "\n",
    "random_number = np.random.rand()\n",
    "print(\"Одно случайное число:\", random_number)\n"
   ]
  },
  {
   "cell_type": "code",
   "execution_count": 27,
   "metadata": {},
   "outputs": [
    {
     "name": "stdout",
     "output_type": "stream",
     "text": [
      "Объединение по столбцам:\n",
      "[[1 2 5 6]\n",
      " [3 4 7 8]]\n",
      "Объединение по строкам:\n",
      "[[1 2]\n",
      " [3 4]\n",
      " [5 6]\n",
      " [7 8]]\n"
     ]
    }
   ],
   "source": [
    "#21\n",
    "A = np.array([[1, 2],\n",
    "              [3, 4]])\n",
    "B = np.array([[5, 6],\n",
    "              [7, 8]])\n",
    "\n",
    "concat_cols = np.concatenate((A, B), axis=1)\n",
    "print(\"Объединение по столбцам:\")\n",
    "print(concat_cols)\n",
    "\n",
    "concat_rows = np.concatenate((A, B), axis=0)\n",
    "print(\"Объединение по строкам:\")\n",
    "print(concat_rows)"
   ]
  },
  {
   "cell_type": "code",
   "execution_count": 28,
   "metadata": {},
   "outputs": [
    {
     "name": "stdout",
     "output_type": "stream",
     "text": [
      "Нижняя треугольная матрица:\n",
      "[[1 0 0]\n",
      " [4 5 0]\n",
      " [7 8 9]]\n",
      "Нижняя треугольная матрица (k=1):\n",
      "[[1 2 0]\n",
      " [4 5 6]\n",
      " [7 8 9]]\n",
      "Нижняя треугольная матрица (k=-2):\n",
      "[[0 0 0]\n",
      " [0 0 0]\n",
      " [7 0 0]]\n"
     ]
    }
   ],
   "source": [
    "#22\n",
    "A = np.array([[1, 2, 3],\n",
    "              [4, 5, 6],\n",
    "              [7, 8, 9]])\n",
    "\n",
    "lower_tri = np.tril(A)\n",
    "print(\"Нижняя треугольная матрица:\")\n",
    "print(lower_tri)\n",
    "\n",
    "lower_tri_k1 = np.tril(A, k=1)\n",
    "print(\"Нижняя треугольная матрица (k=1):\")\n",
    "print(lower_tri_k1)\n",
    "\n",
    "lower_tri_k2 = np.tril(A, k=-2)\n",
    "print(\"Нижняя треугольная матрица (k=-2):\")\n",
    "print(lower_tri_k2)"
   ]
  },
  {
   "cell_type": "code",
   "execution_count": 30,
   "metadata": {},
   "outputs": [
    {
     "name": "stdout",
     "output_type": "stream",
     "text": [
      "Верхняя треугольная матрица:\n",
      "[[1 2 3]\n",
      " [0 5 6]\n",
      " [0 0 9]]\n",
      "Верхняя треугольная матрица (k=2):\n",
      "[[0 0 3]\n",
      " [0 0 0]\n",
      " [0 0 0]]\n",
      "Верхняя треугольная матрица (k=-1):\n",
      "[[1 2 3]\n",
      " [4 5 6]\n",
      " [0 8 9]]\n"
     ]
    }
   ],
   "source": [
    "#23\n",
    "upper_tri = np.triu(A)\n",
    "print(\"Верхняя треугольная матрица:\")\n",
    "print(upper_tri)\n",
    "\n",
    "upper_tri_k2 = np.triu(A, k=2)\n",
    "print(\"Верхняя треугольная матрица (k=2):\")\n",
    "print(upper_tri_k2)\n",
    "\n",
    "upper_tri_k1 = np.triu(A, k=-1)\n",
    "print(\"Верхняя треугольная матрица (k=-1):\")\n",
    "print(upper_tri_k1)"
   ]
  },
  {
   "cell_type": "code",
   "execution_count": 31,
   "metadata": {},
   "outputs": [
    {
     "name": "stdout",
     "output_type": "stream",
     "text": [
      "Размерность матрицы A: (4, 2)\n",
      "Нулевая матрица того же размера, что и A:\n",
      "[[0 0]\n",
      " [0 0]\n",
      " [0 0]\n",
      " [0 0]]\n",
      "Единичный вектор того же размера, что и V:\n",
      "[1 1 1 1 1 1 1 1]\n"
     ]
    }
   ],
   "source": [
    "#24\n",
    "A = np.array([[2, 4],\n",
    "              [1, 3],\n",
    "              [7, 9],\n",
    "              [5, 8]])\n",
    "\n",
    "size_A = A.shape\n",
    "print(\"Размерность матрицы A:\", size_A)\n",
    "\n",
    "zeros_like_A = np.zeros_like(A)\n",
    "print(\"Нулевая матрица того же размера, что и A:\")\n",
    "print(zeros_like_A)\n",
    "\n",
    "V = np.array([2, 4, 6, 8, 1, 3, 5, 7])\n",
    "ones_like_V = np.ones_like(V)\n",
    "print(\"Единичный вектор того же размера, что и V:\")\n",
    "print(ones_like_V)"
   ]
  },
  {
   "cell_type": "code",
   "execution_count": 32,
   "metadata": {},
   "outputs": [
    {
     "name": "stdout",
     "output_type": "stream",
     "text": [
      "Определитель матрицы A: 1.0\n"
     ]
    }
   ],
   "source": [
    "#25\n",
    "A = np.array([[3, 2],\n",
    "              [4, 3]])\n",
    "\n",
    "det_A = np.linalg.det(A)\n",
    "print(\"Определитель матрицы A:\", det_A)"
   ]
  },
  {
   "cell_type": "code",
   "execution_count": 33,
   "metadata": {},
   "outputs": [
    {
     "name": "stdout",
     "output_type": "stream",
     "text": [
      "След матрицы A: -2\n",
      "След матрицы A (альтернативный способ): -2\n"
     ]
    }
   ],
   "source": [
    "#26\n",
    "A = np.array([[1, 2, 3],\n",
    "              [4, -2, 1],\n",
    "              [7, 0, -1]])\n",
    "\n",
    "trace_A = np.trace(A)\n",
    "print(\"След матрицы A:\", trace_A)\n",
    "\n",
    "trace_alt = np.sum(np.diag(A))\n",
    "print(\"След матрицы A (альтернативный способ):\", trace_alt)"
   ]
  },
  {
   "cell_type": "code",
   "execution_count": null,
   "metadata": {},
   "outputs": [
    {
     "name": "stdout",
     "output_type": "stream",
     "text": [
      "Обратная матрица A:\n",
      "[[ 0.03030303  0.03030303  0.12121212]\n",
      " [ 0.16666667 -0.33333333  0.16666667]\n",
      " [ 0.21212121  0.21212121 -0.15151515]]\n"
     ]
    }
   ],
   "source": [
    "#26\n",
    "inv_A = np.linalg.inv(A)\n",
    "print(\"Обратная матрица A:\")\n",
    "print(inv_A)"
   ]
  },
  {
   "cell_type": "code",
   "execution_count": 2,
   "metadata": {},
   "outputs": [
    {
     "name": "stdout",
     "output_type": "stream",
     "text": [
      "Обратная матрица P:\n",
      "[[ 1.33333333 -0.66666667  0.33333333 -1.        ]\n",
      " [-0.07407407  0.25925926  1.14814815 -0.11111111]\n",
      " [ 0.37037037 -0.2962963   0.25925926 -0.44444444]\n",
      " [ 0.25925926 -0.40740741 -0.51851852 -0.11111111]]\n",
      "Проверка A * P:\n",
      "[[ 1.00000000e+00 -5.55111512e-17  1.11022302e-16 -1.66533454e-16]\n",
      " [ 2.22044605e-16  1.00000000e+00 -2.22044605e-16 -1.11022302e-16]\n",
      " [-1.11022302e-16  2.22044605e-16  1.00000000e+00  2.77555756e-17]\n",
      " [ 0.00000000e+00  1.11022302e-16 -2.22044605e-16  1.00000000e+00]]\n"
     ]
    }
   ],
   "source": [
    "#27\n",
    "import numpy as np\n",
    "A = np.array([[2, 1, -5, 1],\n",
    "              [1, -3, 0, -6],\n",
    "              [0, 2, -1, 2],\n",
    "              [1, 4, -7, 6]])\n",
    "\n",
    "P = np.linalg.inv(A)\n",
    "print(\"Обратная матрица P:\")\n",
    "print(P)\n",
    "\n",
    "identity_matrix = np.dot(A, P)\n",
    "print(\"Проверка A * P:\")\n",
    "print(identity_matrix)"
   ]
  },
  {
   "cell_type": "code",
   "execution_count": 3,
   "metadata": {},
   "outputs": [
    {
     "name": "stdout",
     "output_type": "stream",
     "text": [
      "Решение системы:\n",
      "[-0.1 -0.2 -0.3]\n",
      "Решение системы:\n",
      "[0.46428571 1.67857143 0.75      ]\n",
      "Проверка A * x:\n",
      "[-2.22044605e-16  1.00000000e+00  4.00000000e+00]\n"
     ]
    }
   ],
   "source": [
    "#28\n",
    "#без решения\n",
    "A = np.array([[1, 2, 3],\n",
    "              [-2, -4, -6]])\n",
    "b = np.array([5, 6])\n",
    "\n",
    "try:\n",
    "    x = np.linalg.lstsq(A, b, rcond=None)[0]  # метод наименьших квадратов\n",
    "    print(\"Решение системы:\")\n",
    "    print(x)\n",
    "except np.linalg.LinAlgError:\n",
    "    print(\"Система не имеет решений.\")\n",
    "\n",
    "# с решением\n",
    "A = np.array([[2, -1, 1],\n",
    "              [3, 2, -5],\n",
    "              [1, 3, -2]])\n",
    "b = np.array([0, 1, 4])\n",
    "\n",
    "x = np.linalg.solve(A, b)\n",
    "print(\"Решение системы:\")\n",
    "print(x)\n",
    "\n",
    "check = np.dot(A, x)\n",
    "print(\"Проверка A * x:\")\n",
    "print(check)"
   ]
  },
  {
   "cell_type": "code",
   "execution_count": null,
   "metadata": {},
   "outputs": [],
   "source": [
    "%pip install sympy"
   ]
  },
  {
   "cell_type": "code",
   "execution_count": 6,
   "metadata": {},
   "outputs": [
    {
     "name": "stdout",
     "output_type": "stream",
     "text": [
      "Матрица P (перестановок):\n",
      "[[0. 0. 1.]\n",
      " [0. 1. 0.]\n",
      " [1. 0. 0.]]\n",
      "Матрица L (нижняя треугольная):\n",
      "[[1.         0.         0.        ]\n",
      " [0.66666667 1.         0.        ]\n",
      " [0.33333333 0.         1.        ]]\n",
      "Матрица U (верхняя треугольная):\n",
      "[[ 9. -6.  3. 12.]\n",
      " [ 0.  0.  0. -1.]\n",
      " [ 0.  0.  0.  1.]]\n",
      "Матрица в ступенчатом виде (rref):\n",
      "Matrix([[1, -2/3, 1/3, 0], [0, 0, 0, 1], [0, 0, 0, 0]])\n"
     ]
    }
   ],
   "source": [
    "from scipy.linalg import lu\n",
    "\n",
    "A = np.array([[3, -2, 1, 5],\n",
    "              [6, -4, 2, 7],\n",
    "              [9, -6, 3, 12]])\n",
    "\n",
    "# Приведение матрицы к треугольной форме (LU-разложение)\n",
    "P, L, U = lu(A)\n",
    "print(\"Матрица P (перестановок):\")\n",
    "print(P)\n",
    "print(\"Матрица L (нижняя треугольная):\")\n",
    "print(L)\n",
    "print(\"Матрица U (верхняя треугольная):\")\n",
    "print(U)\n",
    "\n",
    "# Приведение к ступенчатому виду (rref)\n",
    "from sympy import Matrix\n",
    "\n",
    "A_sympy = Matrix(A)\n",
    "rref_matrix, _ = A_sympy.rref()\n",
    "print(\"Матрица в ступенчатом виде (rref):\")\n",
    "print(rref_matrix)"
   ]
  }
 ],
 "metadata": {
  "kernelspec": {
   "display_name": "Python 3",
   "language": "python",
   "name": "python3"
  },
  "language_info": {
   "codemirror_mode": {
    "name": "ipython",
    "version": 3
   },
   "file_extension": ".py",
   "mimetype": "text/x-python",
   "name": "python",
   "nbconvert_exporter": "python",
   "pygments_lexer": "ipython3",
   "version": "3.11.9"
  }
 },
 "nbformat": 4,
 "nbformat_minor": 2
}
