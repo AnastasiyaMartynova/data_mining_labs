{
 "cells": [
  {
   "cell_type": "code",
   "execution_count": 2,
   "metadata": {},
   "outputs": [
    {
     "name": "stdout",
     "output_type": "stream",
     "text": [
      "Collecting pandas\n",
      "  Using cached pandas-2.2.3-cp311-cp311-manylinux_2_17_x86_64.manylinux2014_x86_64.whl (13.1 MB)\n",
      "Collecting numpy\n",
      "  Using cached numpy-2.2.3-cp311-cp311-manylinux_2_17_x86_64.manylinux2014_x86_64.whl (16.4 MB)\n",
      "Collecting matplotlib\n",
      "  Using cached matplotlib-3.10.0-cp311-cp311-manylinux_2_17_x86_64.manylinux2014_x86_64.whl (8.6 MB)\n",
      "Requirement already satisfied: python-dateutil>=2.8.2 in /home/student/Документы/venv/lib/python3.11/site-packages (from pandas) (2.9.0.post0)\n",
      "Collecting pytz>=2020.1\n",
      "  Using cached pytz-2025.1-py2.py3-none-any.whl (507 kB)\n",
      "Collecting tzdata>=2022.7\n",
      "  Using cached tzdata-2025.1-py2.py3-none-any.whl (346 kB)\n",
      "Collecting contourpy>=1.0.1\n",
      "  Using cached contourpy-1.3.1-cp311-cp311-manylinux_2_17_x86_64.manylinux2014_x86_64.whl (326 kB)\n",
      "Collecting cycler>=0.10\n",
      "  Using cached cycler-0.12.1-py3-none-any.whl (8.3 kB)\n",
      "Collecting fonttools>=4.22.0\n",
      "  Using cached fonttools-4.56.0-cp311-cp311-manylinux_2_17_x86_64.manylinux2014_x86_64.whl (4.9 MB)\n",
      "Collecting kiwisolver>=1.3.1\n",
      "  Using cached kiwisolver-1.4.8-cp311-cp311-manylinux_2_17_x86_64.manylinux2014_x86_64.whl (1.4 MB)\n",
      "Requirement already satisfied: packaging>=20.0 in /home/student/Документы/venv/lib/python3.11/site-packages (from matplotlib) (24.2)\n",
      "Collecting pillow>=8\n",
      "  Using cached pillow-11.1.0-cp311-cp311-manylinux_2_28_x86_64.whl (4.5 MB)\n",
      "Collecting pyparsing>=2.3.1\n",
      "  Using cached pyparsing-3.2.1-py3-none-any.whl (107 kB)\n",
      "Requirement already satisfied: six>=1.5 in /home/student/Документы/venv/lib/python3.11/site-packages (from python-dateutil>=2.8.2->pandas) (1.17.0)\n",
      "Installing collected packages: pytz, tzdata, pyparsing, pillow, numpy, kiwisolver, fonttools, cycler, pandas, contourpy, matplotlib\n",
      "Successfully installed contourpy-1.3.1 cycler-0.12.1 fonttools-4.56.0 kiwisolver-1.4.8 matplotlib-3.10.0 numpy-2.2.3 pandas-2.2.3 pillow-11.1.0 pyparsing-3.2.1 pytz-2025.1 tzdata-2025.1\n",
      "Note: you may need to restart the kernel to use updated packages.\n"
     ]
    }
   ],
   "source": [
    "%pip install pandas numpy matplotlib"
   ]
  },
  {
   "cell_type": "code",
   "execution_count": 4,
   "metadata": {},
   "outputs": [
    {
     "name": "stdout",
     "output_type": "stream",
     "text": [
      "Collecting scipy\n",
      "  Downloading scipy-1.15.2-cp311-cp311-manylinux_2_17_x86_64.manylinux2014_x86_64.whl (37.6 MB)\n",
      "\u001b[2K     \u001b[90m━━━━━━━━━━━━━━━━━━━━━━━━━━━━━━━━━━━━━━━━\u001b[0m \u001b[32m37.6/37.6 MB\u001b[0m \u001b[31m8.4 MB/s\u001b[0m eta \u001b[36m0:00:00\u001b[0m:00:01\u001b[0m00:01\u001b[0m\n",
      "\u001b[?25hRequirement already satisfied: numpy<2.5,>=1.23.5 in /home/student/Документы/venv/lib/python3.11/site-packages (from scipy) (2.2.3)\n",
      "Installing collected packages: scipy\n",
      "Successfully installed scipy-1.15.2\n",
      "Note: you may need to restart the kernel to use updated packages.\n"
     ]
    }
   ],
   "source": [
    "%pip install scipy"
   ]
  },
  {
   "cell_type": "code",
   "execution_count": 11,
   "metadata": {},
   "outputs": [
    {
     "name": "stdout",
     "output_type": "stream",
     "text": [
      "Collecting openpyxl\n",
      "  Downloading openpyxl-3.1.5-py2.py3-none-any.whl (250 kB)\n",
      "\u001b[2K     \u001b[90m━━━━━━━━━━━━━━━━━━━━━━━━━━━━━━━━━━━━━━━\u001b[0m \u001b[32m250.9/250.9 kB\u001b[0m \u001b[31m2.4 MB/s\u001b[0m eta \u001b[36m0:00:00\u001b[0m00:01\u001b[0m00:01\u001b[0m\n",
      "\u001b[?25hCollecting et-xmlfile\n",
      "  Downloading et_xmlfile-2.0.0-py3-none-any.whl (18 kB)\n",
      "Installing collected packages: et-xmlfile, openpyxl\n",
      "Successfully installed et-xmlfile-2.0.0 openpyxl-3.1.5\n",
      "Note: you may need to restart the kernel to use updated packages.\n"
     ]
    }
   ],
   "source": [
    "%pip install openpyxl"
   ]
  },
  {
   "cell_type": "code",
   "execution_count": 5,
   "metadata": {},
   "outputs": [],
   "source": [
    "import pandas as pd\n",
    "import numpy as np\n",
    "import matplotlib.pyplot as plt\n",
    "from scipy import stats"
   ]
  },
  {
   "cell_type": "code",
   "execution_count": 12,
   "metadata": {},
   "outputs": [],
   "source": [
    "df = pd.read_excel('Задача 4.1. Потребительские цены.xlsx')"
   ]
  },
  {
   "cell_type": "code",
   "execution_count": 13,
   "metadata": {},
   "outputs": [
    {
     "name": "stdout",
     "output_type": "stream",
     "text": [
      "     Месяц  Товар 1  Товар 2  Товар 3  Товар 4\n",
      "0   Январь       10       20       15       25\n",
      "1  Февраль       12       22       12       26\n",
      "2     Март       14       25        9       26\n",
      "3   Апрель       13       24       10       25\n",
      "4      Май       14       25        9       24\n"
     ]
    }
   ],
   "source": [
    "print(df.head())"
   ]
  },
  {
   "cell_type": "code",
   "execution_count": 14,
   "metadata": {},
   "outputs": [
    {
     "name": "stdout",
     "output_type": "stream",
     "text": [
      "Коэффициент корреляции Пирсона между Товаром 1 и Товаром 2: 0.8303746721577558\n",
      "Коэффициент корреляции Пирсона между Товаром 1 и Товаром 3: -0.924792887806586\n",
      "Коэффициент корреляции Пирсона между Товаром 1 и Товаром 4: -0.11486667409215927\n"
     ]
    }
   ],
   "source": [
    "# Товар 1 и 2\n",
    "corr_1_2 = np.corrcoef(df['Товар 1'], df['Товар 2'])[0, 1]\n",
    "\n",
    "# Товар 1 и 3\n",
    "corr_1_3 = np.corrcoef(df['Товар 1'], df['Товар 3'])[0, 1]\n",
    "\n",
    "# Товар 1 и 4\n",
    "corr_1_4 = np.corrcoef(df['Товар 1'], df['Товар 4'])[0, 1]\n",
    "\n",
    "print(f\"Коэффициент корреляции Пирсона между Товаром 1 и Товаром 2: {corr_1_2}\")\n",
    "print(f\"Коэффициент корреляции Пирсона между Товаром 1 и Товаром 3: {corr_1_3}\")\n",
    "print(f\"Коэффициент корреляции Пирсона между Товаром 1 и Товаром 4: {corr_1_4}\")"
   ]
  },
  {
   "cell_type": "code",
   "execution_count": 15,
   "metadata": {},
   "outputs": [
    {
     "name": "stdout",
     "output_type": "stream",
     "text": [
      "Коэффициенты корреляции между Товаром 1 и Товаром 2: Пирсон 0.8303746721577557, Кендалл 0.7758620689655172, Спирмен 0.8818240120788577\n",
      "Коэффициенты корреляции между Товаром 1 и Товаром 3: Пирсон -0.924792887806586, Кендалл -0.9112956546121256, Спирмен -0.948382345545359\n",
      "Коэффициенты корреляции между Товаром 1 и Товаром 4: Пирсон -0.11486667409215916, Кендалл -0.10527936095153945, Спирмен -0.11839885335090967\n"
     ]
    }
   ],
   "source": [
    "# Товар 1 и 2\n",
    "pearson_1_2, _ = stats.pearsonr(df['Товар 1'], df['Товар 2'])\n",
    "kendall_1_2, _ = stats.kendalltau(df['Товар 1'], df['Товар 2'])\n",
    "spearman_1_2, _ = stats.spearmanr(df['Товар 1'], df['Товар 2'])\n",
    "\n",
    "# Товар 1 и 3\n",
    "pearson_1_3, _ = stats.pearsonr(df['Товар 1'], df['Товар 3'])\n",
    "kendall_1_3, _ = stats.kendalltau(df['Товар 1'], df['Товар 3'])\n",
    "spearman_1_3, _ = stats.spearmanr(df['Товар 1'], df['Товар 3'])\n",
    "\n",
    "# Товар 1 и 4\n",
    "pearson_1_4, _ = stats.pearsonr(df['Товар 1'], df['Товар 4'])\n",
    "kendall_1_4, _ = stats.kendalltau(df['Товар 1'], df['Товар 4'])\n",
    "spearman_1_4, _ = stats.spearmanr(df['Товар 1'], df['Товар 4'])\n",
    "\n",
    "print(f\"Коэффициенты корреляции между Товаром 1 и Товаром 2: Пирсон {pearson_1_2}, Кендалл {kendall_1_2}, Спирмен {spearman_1_2}\")\n",
    "print(f\"Коэффициенты корреляции между Товаром 1 и Товаром 3: Пирсон {pearson_1_3}, Кендалл {kendall_1_3}, Спирмен {spearman_1_3}\")\n",
    "print(f\"Коэффициенты корреляции между Товаром 1 и Товаром 4: Пирсон {pearson_1_4}, Кендалл {kendall_1_4}, Спирмен {spearman_1_4}\")"
   ]
  }
 ],
 "metadata": {
  "kernelspec": {
   "display_name": "venv",
   "language": "python",
   "name": "python3"
  },
  "language_info": {
   "codemirror_mode": {
    "name": "ipython",
    "version": 3
   },
   "file_extension": ".py",
   "mimetype": "text/x-python",
   "name": "python",
   "nbconvert_exporter": "python",
   "pygments_lexer": "ipython3",
   "version": "3.11.2"
  }
 },
 "nbformat": 4,
 "nbformat_minor": 2
}
