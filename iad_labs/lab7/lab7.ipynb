{
 "cells": [
  {
   "cell_type": "code",
   "execution_count": null,
   "metadata": {},
   "outputs": [],
   "source": [
    "%pip install deap"
   ]
  },
  {
   "cell_type": "code",
   "execution_count": 2,
   "metadata": {},
   "outputs": [
    {
     "name": "stdout",
     "output_type": "stream",
     "text": [
      "Минимум функции y = 2x^2 - 3 найден при x = -0.0000, y = -3.0000\n"
     ]
    }
   ],
   "source": [
    "# Task 1\n",
    "import random\n",
    "import numpy as np\n",
    "from deap import base, creator, tools, algorithms\n",
    "\n",
    "def fitness_function(x):\n",
    "    return 2 * x**2 - 3,\n",
    "\n",
    "creator.create(\"FitnessMin\", base.Fitness, weights=(-1.0,))  # Минимизация\n",
    "creator.create(\"Individual\", list, fitness=creator.FitnessMin)\n",
    "\n",
    "toolbox = base.Toolbox()\n",
    "\n",
    "toolbox.register(\"attr_float\", random.uniform, -2, 2)\n",
    "\n",
    "toolbox.register(\"individual\", tools.initRepeat, creator.Individual, toolbox.attr_float, n=1)\n",
    "toolbox.register(\"population\", tools.initRepeat, list, toolbox.individual)\n",
    "\n",
    "toolbox.register(\"evaluate\", lambda ind: fitness_function(ind[0]))\n",
    "\n",
    "toolbox.register(\"mate\", tools.cxBlend, alpha=0.5)  # Кроссовер\n",
    "toolbox.register(\"mutate\", tools.mutGaussian, mu=0, sigma=0.5, indpb=0.1)  # Мутация\n",
    "toolbox.register(\"select\", tools.selTournament, tournsize=3)  # Селекция\n",
    "\n",
    "population_size = 50\n",
    "num_generations = 100\n",
    "crossover_prob = 0.7\n",
    "mutation_prob = 0.2\n",
    "\n",
    "population = toolbox.population(n=population_size)\n",
    "\n",
    "for generation in range(num_generations):\n",
    "    offspring = algorithms.varAnd(population, toolbox, cxpb=crossover_prob, mutpb=mutation_prob)\n",
    "    fits = toolbox.map(toolbox.evaluate, offspring)\n",
    "    for ind, fit in zip(offspring, fits):\n",
    "        ind.fitness.values = fit\n",
    "    population = toolbox.select(offspring, k=len(population))\n",
    "\n",
    "best_individual = tools.selBest(population, k=1)[0]\n",
    "best_x = best_individual[0]\n",
    "best_y = fitness_function(best_x)[0]\n",
    "\n",
    "print(f\"Минимум функции y = 2x^2 - 3 найден при x = {best_x:.4f}, y = {best_y:.4f}\")"
   ]
  },
  {
   "cell_type": "code",
   "execution_count": null,
   "metadata": {},
   "outputs": [
    {
     "name": "stdout",
     "output_type": "stream",
     "text": [
      "Оптимальное положение моста: x = 6.2500 км от пункта A\n",
      "Минимальная длина пути: 12.8062 км\n"
     ]
    }
   ],
   "source": [
    "# Task 2\n",
    "\n",
    "import random\n",
    "from deap import base, creator, tools, algorithms\n",
    "\n",
    "a = 5  # Расстояние от A\n",
    "b = 3  # Расстояние от\n",
    "d = 10  # Расстояние между A и B\n",
    "\n",
    "def fitness_function(x):\n",
    "    # Длина пути от A до B через мост\n",
    "    path_length = (a**2 + x[0]**2)**0.5 + (b**2 + (d - x[0])**2)**0.5\n",
    "    return path_length,\n",
    "\n",
    "creator.create(\"FitnessMin\", base.Fitness, weights=(-1.0,)) \n",
    "creator.create(\"Individual\", list, fitness=creator.FitnessMin)\n",
    "\n",
    "toolbox = base.Toolbox()\n",
    "\n",
    "toolbox.register(\"attr_float\", random.uniform, 0, d)\n",
    "\n",
    "toolbox.register(\"individual\", tools.initRepeat, creator.Individual, toolbox.attr_float, n=1)\n",
    "toolbox.register(\"population\", tools.initRepeat, list, toolbox.individual)\n",
    "\n",
    "toolbox.register(\"evaluate\", lambda ind: fitness_function(ind))\n",
    "\n",
    "toolbox.register(\"mate\", tools.cxBlend, alpha=0.5) \n",
    "toolbox.register(\"mutate\", tools.mutGaussian, mu=0, sigma=1, indpb=0.1)\n",
    "toolbox.register(\"select\", tools.selTournament, tournsize=3)\n",
    "\n",
    "population_size = 50\n",
    "num_generations = 100\n",
    "crossover_prob = 0.7\n",
    "mutation_prob = 0.2\n",
    "\n",
    "population = toolbox.population(n=population_size)\n",
    "\n",
    "for generation in range(num_generations):\n",
    "    offspring = algorithms.varAnd(population, toolbox, cxpb=crossover_prob, mutpb=mutation_prob)\n",
    "    fits = toolbox.map(toolbox.evaluate, offspring)\n",
    "    for ind, fit in zip(offspring, fits):\n",
    "        ind.fitness.values = fit\n",
    "    population = toolbox.select(offspring, k=len(population))\n",
    "\n",
    "best_individual = tools.selBest(population, k=1)[0]\n",
    "best_x = best_individual[0]\n",
    "best_path_length = fitness_function([best_x])[0]\n",
    "\n",
    "print(f\"Оптимальное положение моста: x = {best_x:.4f} км от пункта A\")\n",
    "print(f\"Минимальная длина пути: {best_path_length:.4f} км\")"
   ]
  },
  {
   "cell_type": "code",
   "execution_count": null,
   "metadata": {},
   "outputs": [
    {
     "name": "stdout",
     "output_type": "stream",
     "text": [
      "Оптимальный радиус: r = -0.0000 см\n",
      "Оптимальная высота: h = 4957927833646321248615453056975681517256704.0000 см\n",
      "Минимальная площадь поверхности: S = -249605901395819931631616.0000 см²\n"
     ]
    }
   ],
   "source": [
    "#Task 3\n",
    "\n",
    "import random\n",
    "from deap import base, creator, tools, algorithms\n",
    "\n",
    "V = 1000\n",
    "def fitness_function(r):\n",
    "    S = 2 * 3.14159 * r[0]**2 + (2 * V) / r[0]\n",
    "    return S,\n",
    "\n",
    "creator.create(\"FitnessMin\", base.Fitness, weights=(-1.0,)) \n",
    "creator.create(\"Individual\", list, fitness=creator.FitnessMin)\n",
    "\n",
    "toolbox = base.Toolbox()\n",
    "\n",
    "toolbox.register(\"attr_float\", random.uniform, 0.1, 10.0)\n",
    "\n",
    "toolbox.register(\"individual\", tools.initRepeat, creator.Individual, toolbox.attr_float, n=1)\n",
    "toolbox.register(\"population\", tools.initRepeat, list, toolbox.individual)\n",
    "\n",
    "toolbox.register(\"evaluate\", lambda ind: fitness_function(ind))\n",
    "\n",
    "toolbox.register(\"mate\", tools.cxBlend, alpha=0.5)\n",
    "toolbox.register(\"mutate\", tools.mutGaussian, mu=0, sigma=1, indpb=0.1) \n",
    "toolbox.register(\"select\", tools.selTournament, tournsize=3)\n",
    "\n",
    "population_size = 50\n",
    "num_generations = 100\n",
    "crossover_prob = 0.7\n",
    "mutation_prob = 0.2\n",
    "\n",
    "population = toolbox.population(n=population_size)\n",
    "\n",
    "for generation in range(num_generations):\n",
    "    offspring = algorithms.varAnd(population, toolbox, cxpb=crossover_prob, mutpb=mutation_prob)\n",
    "    fits = toolbox.map(toolbox.evaluate, offspring)\n",
    "    for ind, fit in zip(offspring, fits):\n",
    "        ind.fitness.values = fit\n",
    "    population = toolbox.select(offspring, k=len(population))\n",
    "\n",
    "best_individual = tools.selBest(population, k=1)[0]\n",
    "best_r = best_individual[0]\n",
    "best_S = fitness_function([best_r])[0]\n",
    "\n",
    "best_h = V / (3.14159 * best_r**2)\n",
    "\n",
    "print(f\"Оптимальный радиус: r = {best_r:.4f} см\")\n",
    "print(f\"Оптимальная высота: h = {best_h:.4f} см\")\n",
    "print(f\"Минимальная площадь поверхности: S = {best_S:.4f} см²\")"
   ]
  },
  {
   "cell_type": "code",
   "execution_count": null,
   "metadata": {},
   "outputs": [
    {
     "name": "stdout",
     "output_type": "stream",
     "text": [
      "Глобальный минимум функции f(x) = x^2 - 5 найден при x = 0.0000\n",
      "Значение функции в этой точке: f(x) = -5.0000\n"
     ]
    }
   ],
   "source": [
    "#Task 4\n",
    "\n",
    "import random\n",
    "from deap import base, creator, tools, algorithms\n",
    "\n",
    "def fitness_function(x):\n",
    "    return x[0]**2 - 5,\n",
    "\n",
    "creator.create(\"FitnessMin\", base.Fitness, weights=(-1.0,)) \n",
    "creator.create(\"Individual\", list, fitness=creator.FitnessMin)\n",
    "\n",
    "toolbox = base.Toolbox()\n",
    "\n",
    "toolbox.register(\"attr_float\", random.uniform, -2, 2)\n",
    "\n",
    "toolbox.register(\"individual\", tools.initRepeat, creator.Individual, toolbox.attr_float, n=1)\n",
    "toolbox.register(\"population\", tools.initRepeat, list, toolbox.individual)\n",
    "\n",
    "toolbox.register(\"evaluate\", lambda ind: fitness_function(ind))\n",
    "\n",
    "toolbox.register(\"mate\", tools.cxBlend, alpha=0.5)\n",
    "toolbox.register(\"mutate\", tools.mutGaussian, mu=0, sigma=0.5, indpb=0.1)\n",
    "toolbox.register(\"select\", tools.selTournament, tournsize=3)\n",
    "\n",
    "population_size = 50\n",
    "num_generations = 100\n",
    "crossover_prob = 0.7\n",
    "mutation_prob = 0.2\n",
    "\n",
    "population = toolbox.population(n=population_size)\n",
    "\n",
    "for generation in range(num_generations):\n",
    "    offspring = algorithms.varAnd(population, toolbox, cxpb=crossover_prob, mutpb=mutation_prob)\n",
    "    fits = toolbox.map(toolbox.evaluate, offspring)\n",
    "    for ind, fit in zip(offspring, fits):\n",
    "        ind.fitness.values = fit\n",
    "    population = toolbox.select(offspring, k=len(population))\n",
    "\n",
    "best_individual = tools.selBest(population, k=1)[0]\n",
    "best_x = best_individual[0]\n",
    "best_f = fitness_function([best_x])[0]\n",
    "\n",
    "print(f\"Глобальный минимум функции f(x) = x^2 - 5 найден при x = {best_x:.4f}\")\n",
    "print(f\"Значение функции в этой точке: f(x) = {best_f:.4f}\")"
   ]
  }
 ],
 "metadata": {
  "kernelspec": {
   "display_name": "Python 3",
   "language": "python",
   "name": "python3"
  },
  "language_info": {
   "codemirror_mode": {
    "name": "ipython",
    "version": 3
   },
   "file_extension": ".py",
   "mimetype": "text/x-python",
   "name": "python",
   "nbconvert_exporter": "python",
   "pygments_lexer": "ipython3",
   "version": "3.11.9"
  }
 },
 "nbformat": 4,
 "nbformat_minor": 2
}
